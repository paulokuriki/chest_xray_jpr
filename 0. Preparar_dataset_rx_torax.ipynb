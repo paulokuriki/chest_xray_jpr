{
 "cells": [
  {
   "cell_type": "markdown",
   "metadata": {
    "id": "3MYFW7Thw9F6"
   },
   "source": [
    "SELECT DISTINCT patient_id, birth_date, genero, accession_number, exame_codigo, exame_desc, exam_datetime FROM `interoper-dataplatform-prd.raw_rdi.rdi_tb_carestream_laudos` \n",
    "WHERE exame_desc LIKE '%TORAX%' AND exame_desc LIKE '%INCIDENCIA%' \n",
    "AND exam_datetime BETWEEN '2022-01-01' AND '2022-12-31'\n"
   ]
  },
  {
   "cell_type": "code",
   "execution_count": 2,
   "metadata": {
    "colab": {
     "base_uri": "https://localhost:8080/"
    },
    "id": "hMgyee_pRqvq",
    "outputId": "a6c17289-5dc4-42d4-f21c-26ff8f24349a"
   },
   "outputs": [
    {
     "name": "stderr",
     "output_type": "stream",
     "text": [
      "0it [00:00, ?it/s]\n"
     ]
    }
   ],
   "source": [
    "from datetime import datetime\n",
    "from dateutil import relativedelta\n",
    "\n",
    "import pandas as pd\n",
    "from tqdm import tqdm\n",
    "tqdm().pandas()"
   ]
  },
  {
   "cell_type": "code",
   "execution_count": 3,
   "metadata": {
    "id": "bJjH67AMR5b3"
   },
   "outputs": [],
   "source": [
    "file_csv = 'rx_torax_kaggle.csv'\n",
    "file_1000 = '1000_bins_processed.csv'\n",
    "file_1000_acc = '1000_accs_processed.csv'"
   ]
  },
  {
   "cell_type": "code",
   "execution_count": 4,
   "metadata": {
    "id": "ErE0DeSkR61F"
   },
   "outputs": [],
   "source": [
    "df = pd.read_csv(file_csv)"
   ]
  },
  {
   "cell_type": "code",
   "execution_count": 5,
   "metadata": {
    "colab": {
     "base_uri": "https://localhost:8080/"
    },
    "id": "iloDJZfpV9La",
    "outputId": "7ade2d73-c4e5-47aa-838d-0ff0d2f7c7f4"
   },
   "outputs": [
    {
     "name": "stderr",
     "output_type": "stream",
     "text": [
      "100%|████████████████████████████████| 162524/162524 [00:06<00:00, 25265.94it/s]\n",
      "100%|██████████████████████████████| 147269/147269 [00:00<00:00, 1927916.51it/s]\n",
      "100%|██████████████████████████████| 147269/147269 [00:00<00:00, 1683645.90it/s]\n"
     ]
    }
   ],
   "source": [
    "def calculate_age(birth_date: str, exam_datetime: str) -> int:\n",
    "    date_pattern = \"%Y-%m-%d %H:%M:%S %Z\"\n",
    "    # convert string to date object\n",
    "    start_date = datetime.strptime(birth_date, date_pattern)\n",
    "    end_date = datetime.strptime(exam_datetime, date_pattern)\n",
    "\n",
    "    # Get the relativedelta between two dates\n",
    "    delta = relativedelta.relativedelta(end_date, start_date)\n",
    "    return delta.years\n",
    "\n",
    "df['age'] = df.progress_apply(lambda row: calculate_age(row['birth_date'], row['exam_datetime']), axis=1)\n",
    "\n",
    "# keep only >= 18 and <= 99 years olds\n",
    "df = df[(df['age'] >= 18) & (df['age'] <= 99)]\n",
    "\n",
    "df['float_age'] = df.age.progress_apply(lambda age: age/10)\n",
    "df['group_age'] = df.age.progress_apply(lambda age: int(age/10))"
   ]
  },
  {
   "cell_type": "code",
   "execution_count": 6,
   "metadata": {
    "colab": {
     "base_uri": "https://localhost:8080/",
     "height": 835
    },
    "id": "QimzxiC5ZI_Z",
    "outputId": "0ba8f151-529d-4d12-edbe-542eca96694f"
   },
   "outputs": [
    {
     "data": {
      "text/html": [
       "<div>\n",
       "<style scoped>\n",
       "    .dataframe tbody tr th:only-of-type {\n",
       "        vertical-align: middle;\n",
       "    }\n",
       "\n",
       "    .dataframe tbody tr th {\n",
       "        vertical-align: top;\n",
       "    }\n",
       "\n",
       "    .dataframe thead th {\n",
       "        text-align: right;\n",
       "    }\n",
       "</style>\n",
       "<table border=\"1\" class=\"dataframe\">\n",
       "  <thead>\n",
       "    <tr style=\"text-align: right;\">\n",
       "      <th></th>\n",
       "      <th>patient_id</th>\n",
       "      <th>birth_date</th>\n",
       "      <th>genero</th>\n",
       "      <th>accession_number</th>\n",
       "      <th>exame_codigo</th>\n",
       "      <th>exame_desc</th>\n",
       "      <th>exam_datetime</th>\n",
       "      <th>age</th>\n",
       "      <th>float_age</th>\n",
       "      <th>group_age</th>\n",
       "    </tr>\n",
       "  </thead>\n",
       "  <tbody>\n",
       "    <tr>\n",
       "      <th>0</th>\n",
       "      <td>10170115675</td>\n",
       "      <td>1998-07-22 00:00:00 UTC</td>\n",
       "      <td>F</td>\n",
       "      <td>579410243101TRX2</td>\n",
       "      <td>TRX2HP</td>\n",
       "      <td>TORAX 2 INCIDENCIAS</td>\n",
       "      <td>2022-02-26 05:36:00 UTC</td>\n",
       "      <td>23</td>\n",
       "      <td>2.3</td>\n",
       "      <td>2</td>\n",
       "    </tr>\n",
       "    <tr>\n",
       "      <th>1</th>\n",
       "      <td>7670348396</td>\n",
       "      <td>1975-10-05 00:00:00 UTC</td>\n",
       "      <td>F</td>\n",
       "      <td>0003IUQ6P800602T</td>\n",
       "      <td>TRX3GL</td>\n",
       "      <td>TORAX 3 INCIDENCIAS</td>\n",
       "      <td>2022-04-14 16:28:00 UTC</td>\n",
       "      <td>46</td>\n",
       "      <td>4.6</td>\n",
       "      <td>4</td>\n",
       "    </tr>\n",
       "    <tr>\n",
       "      <th>2</th>\n",
       "      <td>7676159852</td>\n",
       "      <td>2000-07-20 00:00:00 UTC</td>\n",
       "      <td>F</td>\n",
       "      <td>0003IY6QUK002012</td>\n",
       "      <td>TRX4GL</td>\n",
       "      <td>TORAX 4 INCIDENCIAS</td>\n",
       "      <td>2022-05-03 09:50:00 UTC</td>\n",
       "      <td>21</td>\n",
       "      <td>2.1</td>\n",
       "      <td>2</td>\n",
       "    </tr>\n",
       "    <tr>\n",
       "      <th>3</th>\n",
       "      <td>7664479743</td>\n",
       "      <td>1991-02-23 00:00:00 UTC</td>\n",
       "      <td>F</td>\n",
       "      <td>0003IR8EF300B03P</td>\n",
       "      <td>TRX3IM</td>\n",
       "      <td>RX DO TORAX 3 INCIDENCIAS</td>\n",
       "      <td>2022-09-24 15:51:00 UTC</td>\n",
       "      <td>31</td>\n",
       "      <td>3.1</td>\n",
       "      <td>3</td>\n",
       "    </tr>\n",
       "    <tr>\n",
       "      <th>4</th>\n",
       "      <td>2200006782</td>\n",
       "      <td>1963-07-03 00:00:00 UTC</td>\n",
       "      <td>F</td>\n",
       "      <td>00010DTS3I039013</td>\n",
       "      <td>TRX3GL</td>\n",
       "      <td>TORAX 3 INCIDENCIAS</td>\n",
       "      <td>2022-11-14 14:56:00 UTC</td>\n",
       "      <td>59</td>\n",
       "      <td>5.9</td>\n",
       "      <td>5</td>\n",
       "    </tr>\n",
       "    <tr>\n",
       "      <th>...</th>\n",
       "      <td>...</td>\n",
       "      <td>...</td>\n",
       "      <td>...</td>\n",
       "      <td>...</td>\n",
       "      <td>...</td>\n",
       "      <td>...</td>\n",
       "      <td>...</td>\n",
       "      <td>...</td>\n",
       "      <td>...</td>\n",
       "      <td>...</td>\n",
       "    </tr>\n",
       "    <tr>\n",
       "      <th>162519</th>\n",
       "      <td>7662769072</td>\n",
       "      <td>1972-09-19 00:00:00 UTC</td>\n",
       "      <td>F</td>\n",
       "      <td>0003IQ7QGG00J023</td>\n",
       "      <td>RXT2ICIM</td>\n",
       "      <td>RX DO TORAX 2 INCIDENCIAS</td>\n",
       "      <td>2022-05-05 17:52:00 UTC</td>\n",
       "      <td>49</td>\n",
       "      <td>4.9</td>\n",
       "      <td>4</td>\n",
       "    </tr>\n",
       "    <tr>\n",
       "      <th>162520</th>\n",
       "      <td>2600024250</td>\n",
       "      <td>1975-07-09 00:00:00 UTC</td>\n",
       "      <td>M</td>\n",
       "      <td>00016ZZJJU00G02V</td>\n",
       "      <td>RXT2ICIM</td>\n",
       "      <td>RX DO TORAX 2 INCIDENCIAS</td>\n",
       "      <td>2022-11-24 07:46:00 UTC</td>\n",
       "      <td>47</td>\n",
       "      <td>4.7</td>\n",
       "      <td>4</td>\n",
       "    </tr>\n",
       "    <tr>\n",
       "      <th>162521</th>\n",
       "      <td>7665270292</td>\n",
       "      <td>1957-10-12 00:00:00 UTC</td>\n",
       "      <td>M</td>\n",
       "      <td>0003IRPCES00502Q</td>\n",
       "      <td>RXT2ICIM</td>\n",
       "      <td>RX DO TORAX 2 INCIDENCIAS</td>\n",
       "      <td>2022-03-08 10:29:00 UTC</td>\n",
       "      <td>64</td>\n",
       "      <td>6.4</td>\n",
       "      <td>6</td>\n",
       "    </tr>\n",
       "    <tr>\n",
       "      <th>162522</th>\n",
       "      <td>6002820217</td>\n",
       "      <td>1980-11-26 00:00:00 UTC</td>\n",
       "      <td>F</td>\n",
       "      <td>0002R9X9Q101502G</td>\n",
       "      <td>RXT2ICIM</td>\n",
       "      <td>RX DO TORAX 2 INCIDENCIAS</td>\n",
       "      <td>2022-01-06 12:02:00 UTC</td>\n",
       "      <td>41</td>\n",
       "      <td>4.1</td>\n",
       "      <td>4</td>\n",
       "    </tr>\n",
       "    <tr>\n",
       "      <th>162523</th>\n",
       "      <td>56050104</td>\n",
       "      <td>1989-03-01 00:00:00 UTC</td>\n",
       "      <td>M</td>\n",
       "      <td>00000XDCJC00L017</td>\n",
       "      <td>RXT2ICIM</td>\n",
       "      <td>RX DO TORAX 2 INCIDENCIAS</td>\n",
       "      <td>2022-04-14 14:46:00 UTC</td>\n",
       "      <td>33</td>\n",
       "      <td>3.3</td>\n",
       "      <td>3</td>\n",
       "    </tr>\n",
       "  </tbody>\n",
       "</table>\n",
       "<p>147269 rows × 10 columns</p>\n",
       "</div>"
      ],
      "text/plain": [
       "         patient_id               birth_date genero  accession_number  \\\n",
       "0       10170115675  1998-07-22 00:00:00 UTC      F  579410243101TRX2   \n",
       "1        7670348396  1975-10-05 00:00:00 UTC      F  0003IUQ6P800602T   \n",
       "2        7676159852  2000-07-20 00:00:00 UTC      F  0003IY6QUK002012   \n",
       "3        7664479743  1991-02-23 00:00:00 UTC      F  0003IR8EF300B03P   \n",
       "4        2200006782  1963-07-03 00:00:00 UTC      F  00010DTS3I039013   \n",
       "...             ...                      ...    ...               ...   \n",
       "162519   7662769072  1972-09-19 00:00:00 UTC      F  0003IQ7QGG00J023   \n",
       "162520   2600024250  1975-07-09 00:00:00 UTC      M  00016ZZJJU00G02V   \n",
       "162521   7665270292  1957-10-12 00:00:00 UTC      M  0003IRPCES00502Q   \n",
       "162522   6002820217  1980-11-26 00:00:00 UTC      F  0002R9X9Q101502G   \n",
       "162523     56050104  1989-03-01 00:00:00 UTC      M  00000XDCJC00L017   \n",
       "\n",
       "       exame_codigo                 exame_desc            exam_datetime  age  \\\n",
       "0            TRX2HP        TORAX 2 INCIDENCIAS  2022-02-26 05:36:00 UTC   23   \n",
       "1            TRX3GL        TORAX 3 INCIDENCIAS  2022-04-14 16:28:00 UTC   46   \n",
       "2            TRX4GL        TORAX 4 INCIDENCIAS  2022-05-03 09:50:00 UTC   21   \n",
       "3            TRX3IM  RX DO TORAX 3 INCIDENCIAS  2022-09-24 15:51:00 UTC   31   \n",
       "4            TRX3GL        TORAX 3 INCIDENCIAS  2022-11-14 14:56:00 UTC   59   \n",
       "...             ...                        ...                      ...  ...   \n",
       "162519     RXT2ICIM  RX DO TORAX 2 INCIDENCIAS  2022-05-05 17:52:00 UTC   49   \n",
       "162520     RXT2ICIM  RX DO TORAX 2 INCIDENCIAS  2022-11-24 07:46:00 UTC   47   \n",
       "162521     RXT2ICIM  RX DO TORAX 2 INCIDENCIAS  2022-03-08 10:29:00 UTC   64   \n",
       "162522     RXT2ICIM  RX DO TORAX 2 INCIDENCIAS  2022-01-06 12:02:00 UTC   41   \n",
       "162523     RXT2ICIM  RX DO TORAX 2 INCIDENCIAS  2022-04-14 14:46:00 UTC   33   \n",
       "\n",
       "        float_age  group_age  \n",
       "0             2.3          2  \n",
       "1             4.6          4  \n",
       "2             2.1          2  \n",
       "3             3.1          3  \n",
       "4             5.9          5  \n",
       "...           ...        ...  \n",
       "162519        4.9          4  \n",
       "162520        4.7          4  \n",
       "162521        6.4          6  \n",
       "162522        4.1          4  \n",
       "162523        3.3          3  \n",
       "\n",
       "[147269 rows x 10 columns]"
      ]
     },
     "execution_count": 6,
     "metadata": {},
     "output_type": "execute_result"
    }
   ],
   "source": [
    "df"
   ]
  },
  {
   "cell_type": "code",
   "execution_count": 17,
   "metadata": {
    "colab": {
     "base_uri": "https://localhost:8080/",
     "height": 424
    },
    "id": "LP99sEr_R-ZL",
    "outputId": "9817f9e1-bc8f-4aec-f585-8a6bba4d9ee4"
   },
   "outputs": [
    {
     "data": {
      "text/html": [
       "<div>\n",
       "<style scoped>\n",
       "    .dataframe tbody tr th:only-of-type {\n",
       "        vertical-align: middle;\n",
       "    }\n",
       "\n",
       "    .dataframe tbody tr th {\n",
       "        vertical-align: top;\n",
       "    }\n",
       "\n",
       "    .dataframe thead th {\n",
       "        text-align: right;\n",
       "    }\n",
       "</style>\n",
       "<table border=\"1\" class=\"dataframe\">\n",
       "  <thead>\n",
       "    <tr style=\"text-align: right;\">\n",
       "      <th></th>\n",
       "      <th>patient_id</th>\n",
       "      <th>age</th>\n",
       "      <th>group_age</th>\n",
       "      <th>accession_number</th>\n",
       "    </tr>\n",
       "  </thead>\n",
       "  <tbody>\n",
       "    <tr>\n",
       "      <th>0</th>\n",
       "      <td>7661012939</td>\n",
       "      <td>63</td>\n",
       "      <td>6</td>\n",
       "      <td>0003IP63EZ00A013</td>\n",
       "    </tr>\n",
       "    <tr>\n",
       "      <th>1</th>\n",
       "      <td>7674488113</td>\n",
       "      <td>27</td>\n",
       "      <td>2</td>\n",
       "      <td>0003IX6WXD00801K</td>\n",
       "    </tr>\n",
       "    <tr>\n",
       "      <th>2</th>\n",
       "      <td>7663050226</td>\n",
       "      <td>32</td>\n",
       "      <td>3</td>\n",
       "      <td>0003IQDREA00601U</td>\n",
       "    </tr>\n",
       "    <tr>\n",
       "      <th>3</th>\n",
       "      <td>6007220082</td>\n",
       "      <td>48</td>\n",
       "      <td>4</td>\n",
       "      <td>0002RCJKOI00B01U</td>\n",
       "    </tr>\n",
       "    <tr>\n",
       "      <th>4</th>\n",
       "      <td>7661909844</td>\n",
       "      <td>64</td>\n",
       "      <td>6</td>\n",
       "      <td>0003IPPBH0004018</td>\n",
       "    </tr>\n",
       "    <tr>\n",
       "      <th>...</th>\n",
       "      <td>...</td>\n",
       "      <td>...</td>\n",
       "      <td>...</td>\n",
       "      <td>...</td>\n",
       "    </tr>\n",
       "    <tr>\n",
       "      <th>143098</th>\n",
       "      <td>7666893442</td>\n",
       "      <td>38</td>\n",
       "      <td>3</td>\n",
       "      <td>0003ISO4UA003048</td>\n",
       "    </tr>\n",
       "    <tr>\n",
       "      <th>143099</th>\n",
       "      <td>6169739463</td>\n",
       "      <td>78</td>\n",
       "      <td>7</td>\n",
       "      <td>0002U1AXFR00209G</td>\n",
       "    </tr>\n",
       "    <tr>\n",
       "      <th>143100</th>\n",
       "      <td>7660712846</td>\n",
       "      <td>26</td>\n",
       "      <td>2</td>\n",
       "      <td>0003IOZNV20070HL</td>\n",
       "    </tr>\n",
       "    <tr>\n",
       "      <th>143101</th>\n",
       "      <td>7677743887</td>\n",
       "      <td>57</td>\n",
       "      <td>5</td>\n",
       "      <td>0003IZ4P3J00102S</td>\n",
       "    </tr>\n",
       "    <tr>\n",
       "      <th>143102</th>\n",
       "      <td>2584533773</td>\n",
       "      <td>20</td>\n",
       "      <td>2</td>\n",
       "      <td>00016QRJ0T00A02Y</td>\n",
       "    </tr>\n",
       "  </tbody>\n",
       "</table>\n",
       "<p>143103 rows × 4 columns</p>\n",
       "</div>"
      ],
      "text/plain": [
       "        patient_id  age  group_age  accession_number\n",
       "0       7661012939   63          6  0003IP63EZ00A013\n",
       "1       7674488113   27          2  0003IX6WXD00801K\n",
       "2       7663050226   32          3  0003IQDREA00601U\n",
       "3       6007220082   48          4  0002RCJKOI00B01U\n",
       "4       7661909844   64          6  0003IPPBH0004018\n",
       "...            ...  ...        ...               ...\n",
       "143098  7666893442   38          3  0003ISO4UA003048\n",
       "143099  6169739463   78          7  0002U1AXFR00209G\n",
       "143100  7660712846   26          2  0003IOZNV20070HL\n",
       "143101  7677743887   57          5  0003IZ4P3J00102S\n",
       "143102  2584533773   20          2  00016QRJ0T00A02Y\n",
       "\n",
       "[143103 rows x 4 columns]"
      ]
     },
     "execution_count": 17,
     "metadata": {},
     "output_type": "execute_result"
    }
   ],
   "source": [
    "groupby = ['patient_id', 'age', 'group_age']\n",
    "df_group = df.groupby(groupby)['accession_number'].max().reset_index()\n",
    "df_group = df_group.drop_duplicates(subset='patient_id', keep='first')\n",
    "df_group = df_group.sample(frac=1).reset_index(drop=True)\n",
    "df_group"
   ]
  },
  {
   "cell_type": "code",
   "execution_count": 20,
   "metadata": {
    "id": "avMxx8QpSd3f"
   },
   "outputs": [],
   "source": [
    "assert(df_group['patient_id'].nunique() == len(df_group))"
   ]
  },
  {
   "cell_type": "code",
   "execution_count": 23,
   "metadata": {
    "colab": {
     "base_uri": "https://localhost:8080/",
     "height": 283
    },
    "id": "M-fUH71xbJZ6",
    "outputId": "41f6ecc9-0ac2-4f95-cfd9-d9f886c3679a"
   },
   "outputs": [
    {
     "data": {
      "text/plain": [
       "<AxesSubplot: >"
      ]
     },
     "execution_count": 23,
     "metadata": {},
     "output_type": "execute_result"
    },
    {
     "data": {
      "image/png": "[encoded data removed]",
      "text/plain": [
       "<Figure size 640x480 with 1 Axes>"
      ]
     },
     "metadata": {},
     "output_type": "display_data"
    }
   ],
   "source": [
    "df_group.age.hist()"
   ]
  },
  {
   "cell_type": "code",
   "execution_count": 24,
   "metadata": {
    "colab": {
     "base_uri": "https://localhost:8080/"
    },
    "id": "sdcCOQVabWPl",
    "outputId": "13619744-88bb-48a7-97a8-d60da417cb23"
   },
   "outputs": [
    {
     "data": {
      "text/plain": [
       "4    32584\n",
       "3    32171\n",
       "5    22124\n",
       "6    18028\n",
       "2    17860\n",
       "7    12030\n",
       "8     5367\n",
       "1     1831\n",
       "9     1108\n",
       "Name: group_age, dtype: int64"
      ]
     },
     "execution_count": 24,
     "metadata": {},
     "output_type": "execute_result"
    }
   ],
   "source": [
    "df_group.group_age.value_counts()"
   ]
  },
  {
   "cell_type": "code",
   "execution_count": 25,
   "metadata": {
    "colab": {
     "base_uri": "https://localhost:8080/",
     "height": 835
    },
    "id": "c5nM_LcfeDHD",
    "outputId": "454e427f-ed8b-4d77-e8f1-5df831617a32"
   },
   "outputs": [
    {
     "data": {
      "text/html": [
       "<div>\n",
       "<style scoped>\n",
       "    .dataframe tbody tr th:only-of-type {\n",
       "        vertical-align: middle;\n",
       "    }\n",
       "\n",
       "    .dataframe tbody tr th {\n",
       "        vertical-align: top;\n",
       "    }\n",
       "\n",
       "    .dataframe thead th {\n",
       "        text-align: right;\n",
       "    }\n",
       "</style>\n",
       "<table border=\"1\" class=\"dataframe\">\n",
       "  <thead>\n",
       "    <tr style=\"text-align: right;\">\n",
       "      <th></th>\n",
       "      <th>patient_id</th>\n",
       "      <th>birth_date</th>\n",
       "      <th>genero</th>\n",
       "      <th>accession_number</th>\n",
       "      <th>exame_codigo</th>\n",
       "      <th>exame_desc</th>\n",
       "      <th>exam_datetime</th>\n",
       "      <th>age</th>\n",
       "      <th>float_age</th>\n",
       "      <th>group_age</th>\n",
       "    </tr>\n",
       "  </thead>\n",
       "  <tbody>\n",
       "    <tr>\n",
       "      <th>188</th>\n",
       "      <td>91032263</td>\n",
       "      <td>1929-09-25 00:00:00 UTC</td>\n",
       "      <td>F</td>\n",
       "      <td>00001I74XZ01A01Y</td>\n",
       "      <td>TRX3GL</td>\n",
       "      <td>TORAX 3 INCIDENCIAS</td>\n",
       "      <td>2022-04-09 11:16:00 UTC</td>\n",
       "      <td>92</td>\n",
       "      <td>9.2</td>\n",
       "      <td>9</td>\n",
       "    </tr>\n",
       "    <tr>\n",
       "      <th>303</th>\n",
       "      <td>7660217968</td>\n",
       "      <td>1926-11-11 00:00:00 UTC</td>\n",
       "      <td>F</td>\n",
       "      <td>0003IOP20G00A12C</td>\n",
       "      <td>TRX3GL</td>\n",
       "      <td>TORAX 3 INCIDENCIAS</td>\n",
       "      <td>2022-09-13 09:19:00 UTC</td>\n",
       "      <td>95</td>\n",
       "      <td>9.5</td>\n",
       "      <td>9</td>\n",
       "    </tr>\n",
       "    <tr>\n",
       "      <th>571</th>\n",
       "      <td>6007720284</td>\n",
       "      <td>1932-07-15 00:00:00 UTC</td>\n",
       "      <td>F</td>\n",
       "      <td>0002RCUAN000B01F</td>\n",
       "      <td>TRX3GL</td>\n",
       "      <td>TORAX 3 INCIDENCIAS</td>\n",
       "      <td>2022-08-19 12:37:00 UTC</td>\n",
       "      <td>90</td>\n",
       "      <td>9.0</td>\n",
       "      <td>9</td>\n",
       "    </tr>\n",
       "    <tr>\n",
       "      <th>1064</th>\n",
       "      <td>34013819</td>\n",
       "      <td>1929-11-20 00:00:00 UTC</td>\n",
       "      <td>F</td>\n",
       "      <td>00000K918B01101U</td>\n",
       "      <td>TRX3GL</td>\n",
       "      <td>TORAX 3 INCIDENCIAS</td>\n",
       "      <td>2022-02-10 15:32:00 UTC</td>\n",
       "      <td>92</td>\n",
       "      <td>9.2</td>\n",
       "      <td>9</td>\n",
       "    </tr>\n",
       "    <tr>\n",
       "      <th>1166</th>\n",
       "      <td>2587392943</td>\n",
       "      <td>1930-06-25 00:00:00 UTC</td>\n",
       "      <td>F</td>\n",
       "      <td>00016SGT6700B03X</td>\n",
       "      <td>TRX3GL</td>\n",
       "      <td>TORAX 3 INCIDENCIAS</td>\n",
       "      <td>2022-01-28 14:18:00 UTC</td>\n",
       "      <td>91</td>\n",
       "      <td>9.1</td>\n",
       "      <td>9</td>\n",
       "    </tr>\n",
       "    <tr>\n",
       "      <th>...</th>\n",
       "      <td>...</td>\n",
       "      <td>...</td>\n",
       "      <td>...</td>\n",
       "      <td>...</td>\n",
       "      <td>...</td>\n",
       "      <td>...</td>\n",
       "      <td>...</td>\n",
       "      <td>...</td>\n",
       "      <td>...</td>\n",
       "      <td>...</td>\n",
       "    </tr>\n",
       "    <tr>\n",
       "      <th>87250</th>\n",
       "      <td>7662460769</td>\n",
       "      <td>2003-02-08 00:00:00 UTC</td>\n",
       "      <td>F</td>\n",
       "      <td>0003IQ14KH005018</td>\n",
       "      <td>TRX2GL</td>\n",
       "      <td>TORAX 2 INCIDENCIAS</td>\n",
       "      <td>2022-08-27 12:00:00 UTC</td>\n",
       "      <td>19</td>\n",
       "      <td>1.9</td>\n",
       "      <td>1</td>\n",
       "    </tr>\n",
       "    <tr>\n",
       "      <th>87273</th>\n",
       "      <td>7677111508</td>\n",
       "      <td>2002-09-18 00:00:00 UTC</td>\n",
       "      <td>M</td>\n",
       "      <td>0003IYR55G00101C</td>\n",
       "      <td>TRX2GL</td>\n",
       "      <td>TORAX 2 INCIDENCIAS</td>\n",
       "      <td>2022-07-19 11:09:00 UTC</td>\n",
       "      <td>19</td>\n",
       "      <td>1.9</td>\n",
       "      <td>1</td>\n",
       "    </tr>\n",
       "    <tr>\n",
       "      <th>87274</th>\n",
       "      <td>7676897899</td>\n",
       "      <td>2003-07-24 00:00:00 UTC</td>\n",
       "      <td>F</td>\n",
       "      <td>0003IYMKBV001015</td>\n",
       "      <td>TRX2GL</td>\n",
       "      <td>TORAX 2 INCIDENCIAS</td>\n",
       "      <td>2022-07-30 15:35:00 UTC</td>\n",
       "      <td>19</td>\n",
       "      <td>1.9</td>\n",
       "      <td>1</td>\n",
       "    </tr>\n",
       "    <tr>\n",
       "      <th>87414</th>\n",
       "      <td>6175383383</td>\n",
       "      <td>2002-06-24 00:00:00 UTC</td>\n",
       "      <td>F</td>\n",
       "      <td>0002U4NWBB00501Y</td>\n",
       "      <td>TRX2GL</td>\n",
       "      <td>TORAX 2 INCIDENCIAS</td>\n",
       "      <td>2022-05-09 10:37:00 UTC</td>\n",
       "      <td>19</td>\n",
       "      <td>1.9</td>\n",
       "      <td>1</td>\n",
       "    </tr>\n",
       "    <tr>\n",
       "      <th>87425</th>\n",
       "      <td>10375678</td>\n",
       "      <td>2003-09-12 00:00:00 UTC</td>\n",
       "      <td>F</td>\n",
       "      <td>0000066DXA00D02O</td>\n",
       "      <td>TRX2GL</td>\n",
       "      <td>TORAX 2 INCIDENCIAS</td>\n",
       "      <td>2022-04-14 18:58:00 UTC</td>\n",
       "      <td>18</td>\n",
       "      <td>1.8</td>\n",
       "      <td>1</td>\n",
       "    </tr>\n",
       "  </tbody>\n",
       "</table>\n",
       "<p>9000 rows × 10 columns</p>\n",
       "</div>"
      ],
      "text/plain": [
       "       patient_id               birth_date genero  accession_number  \\\n",
       "188      91032263  1929-09-25 00:00:00 UTC      F  00001I74XZ01A01Y   \n",
       "303    7660217968  1926-11-11 00:00:00 UTC      F  0003IOP20G00A12C   \n",
       "571    6007720284  1932-07-15 00:00:00 UTC      F  0002RCUAN000B01F   \n",
       "1064     34013819  1929-11-20 00:00:00 UTC      F  00000K918B01101U   \n",
       "1166   2587392943  1930-06-25 00:00:00 UTC      F  00016SGT6700B03X   \n",
       "...           ...                      ...    ...               ...   \n",
       "87250  7662460769  2003-02-08 00:00:00 UTC      F  0003IQ14KH005018   \n",
       "87273  7677111508  2002-09-18 00:00:00 UTC      M  0003IYR55G00101C   \n",
       "87274  7676897899  2003-07-24 00:00:00 UTC      F  0003IYMKBV001015   \n",
       "87414  6175383383  2002-06-24 00:00:00 UTC      F  0002U4NWBB00501Y   \n",
       "87425    10375678  2003-09-12 00:00:00 UTC      F  0000066DXA00D02O   \n",
       "\n",
       "      exame_codigo           exame_desc            exam_datetime  age  \\\n",
       "188         TRX3GL  TORAX 3 INCIDENCIAS  2022-04-09 11:16:00 UTC   92   \n",
       "303         TRX3GL  TORAX 3 INCIDENCIAS  2022-09-13 09:19:00 UTC   95   \n",
       "571         TRX3GL  TORAX 3 INCIDENCIAS  2022-08-19 12:37:00 UTC   90   \n",
       "1064        TRX3GL  TORAX 3 INCIDENCIAS  2022-02-10 15:32:00 UTC   92   \n",
       "1166        TRX3GL  TORAX 3 INCIDENCIAS  2022-01-28 14:18:00 UTC   91   \n",
       "...            ...                  ...                      ...  ...   \n",
       "87250       TRX2GL  TORAX 2 INCIDENCIAS  2022-08-27 12:00:00 UTC   19   \n",
       "87273       TRX2GL  TORAX 2 INCIDENCIAS  2022-07-19 11:09:00 UTC   19   \n",
       "87274       TRX2GL  TORAX 2 INCIDENCIAS  2022-07-30 15:35:00 UTC   19   \n",
       "87414       TRX2GL  TORAX 2 INCIDENCIAS  2022-05-09 10:37:00 UTC   19   \n",
       "87425       TRX2GL  TORAX 2 INCIDENCIAS  2022-04-14 18:58:00 UTC   18   \n",
       "\n",
       "       float_age  group_age  \n",
       "188          9.2          9  \n",
       "303          9.5          9  \n",
       "571          9.0          9  \n",
       "1064         9.2          9  \n",
       "1166         9.1          9  \n",
       "...          ...        ...  \n",
       "87250        1.9          1  \n",
       "87273        1.9          1  \n",
       "87274        1.9          1  \n",
       "87414        1.9          1  \n",
       "87425        1.8          1  \n",
       "\n",
       "[9000 rows x 10 columns]"
      ]
     },
     "execution_count": 25,
     "metadata": {},
     "output_type": "execute_result"
    }
   ],
   "source": [
    "df_concat = None\n",
    "top_n = 1000\n",
    "for i in range(1, 10):\n",
    "    df_parcel = df[df.group_age == i].head(top_n)\n",
    "    if df_concat is None:\n",
    "        df_concat = df_parcel\n",
    "    else:\n",
    "        df_concat = pd.concat([df_parcel, df_concat])\n",
    "df_concat"
   ]
  },
  {
   "cell_type": "code",
   "execution_count": 27,
   "metadata": {},
   "outputs": [
    {
     "data": {
      "text/plain": [
       "8626"
      ]
     },
     "execution_count": 27,
     "metadata": {},
     "output_type": "execute_result"
    }
   ],
   "source": [
    "df_concat.patient_id.nunique()"
   ]
  },
  {
   "cell_type": "code",
   "execution_count": 26,
   "metadata": {
    "colab": {
     "base_uri": "https://localhost:8080/"
    },
    "id": "LHnDhsIAeXLb",
    "outputId": "730aed76-57be-4d8e-bd1c-f3fc6a758ccd"
   },
   "outputs": [
    {
     "data": {
      "text/plain": [
       "9    1000\n",
       "8    1000\n",
       "7    1000\n",
       "6    1000\n",
       "5    1000\n",
       "4    1000\n",
       "3    1000\n",
       "2    1000\n",
       "1    1000\n",
       "Name: group_age, dtype: int64"
      ]
     },
     "execution_count": 26,
     "metadata": {},
     "output_type": "execute_result"
    }
   ],
   "source": [
    "df_concat.group_age.value_counts()"
   ]
  },
  {
   "cell_type": "code",
   "execution_count": null,
   "metadata": {
    "colab": {
     "base_uri": "https://localhost:8080/"
    },
    "id": "gqwMM1Fae2G4",
    "outputId": "0d8a3ca2-e5cb-4551-f6ba-cc564e8b6210"
   },
   "outputs": [
    {
     "name": "stdout",
     "output_type": "stream",
     "text": [
      "File /content/drive/MyDrive/rx_torax_spr/1000_bins_processed_.csv saved successfully\n"
     ]
    }
   ],
   "source": [
    "df_concat.to_csv(file_1000, index=False)\n",
    "\n",
    "print(f'File {file_1000} saved successfully')"
   ]
  },
  {
   "cell_type": "code",
   "execution_count": null,
   "metadata": {
    "id": "Vx0DGR2zgbRP"
   },
   "outputs": [],
   "source": [
    "df_concat['accession_number'].to_csv(file_1000_acc, index=False, header=False)"
   ]
  },
  {
   "cell_type": "code",
   "execution_count": null,
   "metadata": {
    "id": "faT15W9BoSSu"
   },
   "outputs": [],
   "source": []
  }
 ],
 "metadata": {
  "colab": {
   "provenance": []
  },
  "kernelspec": {
   "display_name": "Python 3 (ipykernel)",
   "language": "python",
   "name": "python3"
  },
  "language_info": {
   "codemirror_mode": {
    "name": "ipython",
    "version": 3
   },
   "file_extension": ".py",
   "mimetype": "text/x-python",
   "name": "python",
   "nbconvert_exporter": "python",
   "pygments_lexer": "ipython3",
   "version": "3.10.6"
  }
 },
 "nbformat": 4,
 "nbformat_minor": 4
}
