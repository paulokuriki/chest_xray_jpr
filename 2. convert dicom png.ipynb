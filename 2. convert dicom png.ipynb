{
 "cells": [
  {
   "cell_type": "code",
   "execution_count": 1,
   "id": "0594f17f-976c-468b-a423-327e1fe5446e",
   "metadata": {},
   "outputs": [],
   "source": [
    "import cv2\n",
    "import matplotlib.pyplot as plt\n",
    "from skimage import exposure\n",
    "import os\n",
    "import numpy as np\n",
    "\n",
    "import pydicom\n",
    "from pydicom.pixel_data_handlers.util import apply_voi_lut\n",
    "\n",
    "import pandas as pd\n",
    "pd.set_option('display.max_columns', None)\n",
    "pd.set_option('display.max_colwidth', None)"
   ]
  },
  {
   "cell_type": "code",
   "execution_count": 4,
   "id": "c244b104-2493-493b-839a-77bda6c3bed0",
   "metadata": {},
   "outputs": [],
   "source": [
    "csv_file = 'dicom_files/classified_view.csv'\n",
    "png_folder = 'pngs'\n",
    "\n",
    "df = pd.read_csv(csv_file)\n",
    "df = df[df['view'] == 'front']"
   ]
  },
  {
   "cell_type": "code",
   "execution_count": null,
   "id": "9522b6ab-9feb-42d6-80ed-9f21c07581cb",
   "metadata": {},
   "outputs": [],
   "source": [
    "def read_xray(path, voi_lut = True, fix_monochrome = True, resize_x = 1024, resize_y = 1024):\n",
    "    dicom = pydicom.read_file(path)\n",
    "    \n",
    "    # VOI LUT (if available by DICOM device) is used to transform raw DICOM data to \"human-friendly\" view\n",
    "    if voi_lut:\n",
    "        data = apply_voi_lut(dicom.pixel_array, dicom)\n",
    "    else:\n",
    "        data = dicom.pixel_array\n",
    "               \n",
    "    # depending on this value, X-ray may look inverted - fix that:\n",
    "    if fix_monochrome and dicom.PhotometricInterpretation == \"MONOCHROME1\":\n",
    "        data = np.amax(data) - data\n",
    "    \n",
    "    img = data - np.min(data)\n",
    "    \n",
    "    resized = cv2.resize(img, (resize_x, resize_y), interpolation=cv2.INTER_AREA)\n",
    "        \n",
    "    return resized"
   ]
  },
  {
   "cell_type": "code",
   "execution_count": null,
   "id": "691e2008-219d-4a51-836b-2f52f16feba0",
   "metadata": {},
   "outputs": [],
   "source": [
    "#df = df.head(3)\n",
    "for i, row in df.iterrows():\n",
    "    dicom_file = row['Filename'][3:]\n",
    "    \n",
    "    png_file = os.path.join(png_folder, str(i).zfill(6))\n",
    "    \n",
    "    img_pixel_array = read_xray(dicom_file)\n",
    "\n",
    "    f, axarr = plt.subplots(1,1)\n",
    "        \n",
    "    # normal\n",
    "    print(dicom_file)\n",
    "    axarr.imshow(img_pixel_array, cmap='gray')\n",
    "    axarr.axis('off')\n",
    "    plt.imsave(str(png_file) + '.png', img_pixel_array,  cmap='gray')\n",
    "    \n",
    "    # clahe\n",
    "    #img_pixel_array = exposure.equalize_adapthist(img_pixel_array/np.max(img_pixel_array))\n",
    "    #axarr[1].imshow(img_pixel_array, cmap='gray')\n",
    "    #axarr[1].axis('off')\n",
    "    #plt.imsave(str(png_file) + '_clahe.png', img_pixel_array,  cmap='gray')\n",
    "        \n",
    "    # histogram normalization\n",
    "    #img_pixel_array = exposure.equalize_hist(img_pixel_array)\n",
    "    #axarr[2].imshow(img_pixel_array, cmap='gray')\n",
    "    #axarr[2].axis('off')\n",
    "    #plt.imsave(str(png_file) + '_hist_norm.png', img_pixel_array,  cmap='gray')\n",
    "    \n",
    "    plt.show()    \n",
    "    "
   ]
  },
  {
   "cell_type": "code",
   "execution_count": 5,
   "id": "26f1b7f4-4fae-4dec-b743-cfdc9adea3d2",
   "metadata": {},
   "outputs": [],
   "source": [
    "df['png'] = df.index\n",
    "df['path_png'] = df.png.apply(lambda x: os.path.join(png_folder, str(x).zfill(6)) + '.png')\n",
    "df = df.drop(columns=['png'])"
   ]
  },
  {
   "cell_type": "code",
   "execution_count": 6,
   "id": "78f45252-9c5e-42ba-9f86-332089aa5d43",
   "metadata": {},
   "outputs": [],
   "source": [
    "df.to_csv('exams_pngs.csv', index=False)"
   ]
  },
  {
   "cell_type": "code",
   "execution_count": null,
   "id": "93d62a2a-5957-4a97-b0fc-dccc24333ece",
   "metadata": {},
   "outputs": [],
   "source": []
  }
 ],
 "metadata": {
  "kernelspec": {
   "display_name": "Python 3 (ipykernel)",
   "language": "python",
   "name": "python3"
  },
  "language_info": {
   "codemirror_mode": {
    "name": "ipython",
    "version": 3
   },
   "file_extension": ".py",
   "mimetype": "text/x-python",
   "name": "python",
   "nbconvert_exporter": "python",
   "pygments_lexer": "ipython3",
   "version": "3.10.6"
  }
 },
 "nbformat": 4,
 "nbformat_minor": 5
}
